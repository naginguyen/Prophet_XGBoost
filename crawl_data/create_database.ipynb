{
 "cells": [
  {
   "cell_type": "code",
   "execution_count": 1,
   "metadata": {},
   "outputs": [],
   "source": [
    "import pandas as pd\n",
    "import yfinance as yf\n",
    "from fredapi import Fred"
   ]
  },
  {
   "cell_type": "code",
   "execution_count": 2,
   "metadata": {},
   "outputs": [],
   "source": [
    "fred = Fred(api_key=\"f09f43c00d91a15c3c9dcbe3cf43bf97\")\n",
    "\n",
    "fred_series = {\n",
    "    \"Interest_Rate\" : \"FEDFUNDS\",\n",
    "    \"10Y_Treasury_Yield\" : \"DGS10\",\n",
    "    \"Inflation_CPI\" : \"CPIAUCSL\",\n",
    "    \"Unemployment\" : \"UNRATE\"   \n",
    "}\n",
    "\n"
   ]
  },
  {
   "cell_type": "code",
   "execution_count": 3,
   "metadata": {},
   "outputs": [],
   "source": [
    "df_fred = pd.DataFrame()"
   ]
  },
  {
   "cell_type": "code",
   "execution_count": 4,
   "metadata": {},
   "outputs": [],
   "source": [
    "for name, code in fred_series.items():\n",
    "    df_fred[name] = fred.get_series(code, observation_start=\"2005-01-01\", observation_end=\"2025-08-30\")\n"
   ]
  },
  {
   "cell_type": "code",
   "execution_count": 5,
   "metadata": {},
   "outputs": [],
   "source": [
    "df_fred.index = pd.to_datetime(df_fred.index)"
   ]
  },
  {
   "cell_type": "code",
   "execution_count": 6,
   "metadata": {},
   "outputs": [],
   "source": [
    "tickers = {\n",
    "    \"Gold\" : \"GC=F\",\n",
    "    \"USD_Index\" : \"DX=F\",\n",
    "    \"Oil\" : \"CL=F\",\n",
    "    \"Silver\" : \"SI=F\",\n",
    "    \"SP500\" : \"^GSPC\",\n",
    "    \"Bitcoin\": \"BTC-USD\"\n",
    "}"
   ]
  },
  {
   "cell_type": "code",
   "execution_count": 7,
   "metadata": {},
   "outputs": [],
   "source": [
    "df_yahoo = pd.DataFrame()"
   ]
  },
  {
   "cell_type": "code",
   "execution_count": 8,
   "metadata": {},
   "outputs": [
    {
     "name": "stderr",
     "output_type": "stream",
     "text": [
      "[*********************100%***********************]  1 of 1 completed\n",
      "[*********************100%***********************]  1 of 1 completed\n",
      "[*********************100%***********************]  1 of 1 completed\n",
      "[*********************100%***********************]  1 of 1 completed\n",
      "[*********************100%***********************]  1 of 1 completed\n",
      "[*********************100%***********************]  1 of 1 completed\n"
     ]
    }
   ],
   "source": [
    "for name, ticker in tickers.items():\n",
    "    data = yf.download(ticker, start=\"2008-01-01\", end=\"2025-08-30\", auto_adjust=False)\n",
    "    if \"Adj Close\" in data.columns:\n",
    "        df_yahoo[name] = data[\"Adj Close\"]\n",
    "    else:\n",
    "        df_yahoo[name] = data[\"Close\"]"
   ]
  },
  {
   "cell_type": "code",
   "execution_count": 9,
   "metadata": {},
   "outputs": [
    {
     "name": "stdout",
     "output_type": "stream",
     "text": [
      "                  Gold  USD_Index        Oil  Silver        SP500  Bitcoin\n",
      "Date                                                                      \n",
      "2008-01-02  857.000000  76.010002  99.620003  15.167  1447.160034      NaN\n",
      "2008-01-03  866.400024  75.919998  99.180000  15.382  1447.160034      NaN\n",
      "2008-01-04  863.099976  75.820000  97.910004  15.346  1411.630005      NaN\n",
      "2008-01-07  859.599976  76.199997  95.089996  15.180  1416.180054      NaN\n",
      "2008-01-08  878.000000  76.120003  96.330002  15.707  1390.189941      NaN\n"
     ]
    }
   ],
   "source": [
    "print(df_yahoo.head())\n"
   ]
  },
  {
   "cell_type": "code",
   "execution_count": 10,
   "metadata": {},
   "outputs": [],
   "source": [
    "df_all = pd.concat([df_yahoo, df_fred], axis=1)\n"
   ]
  },
  {
   "cell_type": "code",
   "execution_count": 11,
   "metadata": {},
   "outputs": [
    {
     "name": "stderr",
     "output_type": "stream",
     "text": [
      "C:\\Users\\Nam Nguyen\\AppData\\Local\\Temp\\ipykernel_39840\\1011266026.py:1: FutureWarning: DataFrame.fillna with 'method' is deprecated and will raise in a future version. Use obj.ffill() or obj.bfill() instead.\n",
      "  df_all = df_all.fillna(method=\"ffill\")\n"
     ]
    }
   ],
   "source": [
    "df_all = df_all.fillna(method=\"ffill\")\n"
   ]
  },
  {
   "cell_type": "code",
   "execution_count": 12,
   "metadata": {},
   "outputs": [],
   "source": [
    "df_all = df_all.dropna(subset=[\"Gold\"])\n",
    "\n"
   ]
  },
  {
   "cell_type": "code",
   "execution_count": 13,
   "metadata": {},
   "outputs": [],
   "source": [
    "df_all.to_csv(\"gold_price_1.csv\")\n"
   ]
  },
  {
   "cell_type": "code",
   "execution_count": 14,
   "metadata": {},
   "outputs": [
    {
     "name": "stdout",
     "output_type": "stream",
     "text": [
      "✅ Dataset created! Shape: (4517, 10)\n",
      "                  Gold  USD_Index        Oil     Silver        SP500  Bitcoin  \\\n",
      "2008-01-02  857.000000  76.010002  99.620003  15.167000  1447.160034      NaN   \n",
      "2008-01-03  866.400024  75.919998  99.180000  15.382000  1447.160034      NaN   \n",
      "2008-01-04  863.099976  75.820000  97.910004  15.346000  1411.630005      NaN   \n",
      "2008-01-07  859.599976  76.199997  95.089996  15.180000  1416.180054      NaN   \n",
      "2008-01-08  878.000000  76.120003  96.330002  15.707000  1390.189941      NaN   \n",
      "2008-01-09  879.500000  76.459999  95.669998  15.734000  1409.130005      NaN   \n",
      "2008-01-10  891.700012  76.000000  93.709999  16.173000  1420.329956      NaN   \n",
      "2008-01-11  896.099976  76.040001  92.690002  16.273001  1401.020020      NaN   \n",
      "2008-01-14  901.599976  75.699997  94.199997  16.325001  1416.250000      NaN   \n",
      "2008-01-15  901.000000  75.660004  91.900002  16.205000  1380.949951      NaN   \n",
      "\n",
      "            Interest_Rate  10Y_Treasury_Yield  Inflation_CPI  Unemployment  \n",
      "2008-01-02           3.94                4.36        212.174           5.0  \n",
      "2008-01-03           3.94                4.36        212.174           5.0  \n",
      "2008-01-04           3.94                4.36        212.174           5.0  \n",
      "2008-01-07           3.94                4.36        212.174           5.0  \n",
      "2008-01-08           3.94                4.36        212.174           5.0  \n",
      "2008-01-09           3.94                4.36        212.174           5.0  \n",
      "2008-01-10           3.94                4.36        212.174           5.0  \n",
      "2008-01-11           3.94                4.36        212.174           5.0  \n",
      "2008-01-14           3.94                4.36        212.174           5.0  \n",
      "2008-01-15           3.94                4.36        212.174           5.0  \n"
     ]
    }
   ],
   "source": [
    "print(\"✅ Dataset created! Shape:\", df_all.shape)\n",
    "print(df_all.head(10))"
   ]
  },
  {
   "cell_type": "code",
   "execution_count": 16,
   "metadata": {},
   "outputs": [],
   "source": [
    "df = pd.read_csv(r\"E:\\Study\\usth\\fundamental_data_science\\crawl_data\\gold_price_1.csv\")\n",
    "df = df.rename(columns={'Unnamed: 0' : 'Date'})"
   ]
  }
 ],
 "metadata": {
  "kernelspec": {
   "display_name": "Python 3",
   "language": "python",
   "name": "python3"
  },
  "language_info": {
   "codemirror_mode": {
    "name": "ipython",
    "version": 3
   },
   "file_extension": ".py",
   "mimetype": "text/x-python",
   "name": "python",
   "nbconvert_exporter": "python",
   "pygments_lexer": "ipython3",
   "version": "3.10.11"
  }
 },
 "nbformat": 4,
 "nbformat_minor": 2
}
