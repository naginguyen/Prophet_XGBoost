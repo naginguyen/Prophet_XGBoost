{
 "cells": [
  {
   "cell_type": "code",
   "execution_count": 4,
   "id": "bf7eba47",
   "metadata": {},
   "outputs": [],
   "source": [
    "import pandas as pd\n",
    "import yfinance as yf\n",
    "from fredapi import Fred"
   ]
  },
  {
   "cell_type": "code",
   "execution_count": 7,
   "id": "08d50a8e",
   "metadata": {},
   "outputs": [],
   "source": [
    "fred = Fred(api_key=\"d6e700bbd631aa30c4c24bcb5f3a8150\")\n",
    "\n",
    "fred_series = {\n",
    "    \"Interest_Rate\": \"FEDFUNDS\",        # Fed Funds Rate\n",
    "    \"10Y_Treasury_Yield\": \"DGS10\",      # 10-Year Treasury Yield\n",
    "    \"Inflation_CPI\": \"CPIAUCSL\",        # Consumer Price Index\n",
    "    \"Unemployment\": \"UNRATE\"            # Unemployment Rate\n",
    "}\n"
   ]
  },
  {
   "cell_type": "code",
   "execution_count": 19,
   "id": "45b34eff",
   "metadata": {},
   "outputs": [],
   "source": [
    "def get_stock_data(ticker, start=\"2020-01-01\", end=\"2025-01-01\"):\n",
    "    stock = yf.Ticker(ticker)\n",
    "\n",
    "    #OHLCV price data\n",
    "    df = stock.history(start = start , end = end)\n",
    "    df = df[[\"Open\", \"High\", \"Low\", \"Close\", \"Volume\"]]\n",
    "\n",
    "    #SMA & EMA\n",
    "    df[\"SMA_20\"] = df[\"Close\"].rolling(window=20).mean()\n",
    "    df[\"EMA_20\"] = df[\"Close\"].ewm(span=20, adjust=False).mean()\n",
    "\n",
    "    #RSI\n",
    "    delta = df[\"Close\"].diff()\n",
    "    gain = (delta.where(delta >0,0)).rolling(window=14).mean()\n",
    "    loss = (-delta.where(delta < 0, 0)).rolling(window=14).mean()\n",
    "    rs = gain / loss\n",
    "    df['RSI_14'] = 100 - (100/(1+rs))\n",
    "\n",
    "    #MACD & Signal\n",
    "    ema_12 = df[\"Close\"].ewm(span=12, adjust=False).mean()\n",
    "    ema_26 = df[\"Close\"].ewm(span=26, adjust=False).mean()\n",
    "    df[\"MACD\"] = ema_12 - ema_26\n",
    "    df[\"Signal\"] = df[\"MACD\"].ewm(span=9, adjust=False).mean()\n",
    "\n",
    "    #Volatility\n",
    "    df[\"Volatility_20\"] = df[\"Close\"].rolling(window=20).std()\n",
    "\n",
    "    return df"
   ]
  },
  {
   "cell_type": "code",
   "execution_count": 22,
   "id": "3e3a2194",
   "metadata": {},
   "outputs": [],
   "source": [
    "def get_fred_data(series_dict, start = \"2020-01-01\", end=\"2025-01-01\"):\n",
    "    data = {}\n",
    "    for name, code in series_dict.items():\n",
    "        s = fred.get_series(code, start, end)\n",
    "        data[name] = s\n",
    "    df = pd.DataFrame(data)\n",
    "    return df"
   ]
  },
  {
   "cell_type": "code",
   "execution_count": null,
   "id": "5cfeae1f",
   "metadata": {},
   "outputs": [
    {
     "name": "stdout",
     "output_type": "stream",
     "text": [
      "Combined dataset saved as 'AAPL_with_macro_2020_2025'\n",
      "                 Open       High        Low      Close       Volume  SMA_20  \\\n",
      "2020-01-01        NaN        NaN        NaN        NaN          NaN     NaN   \n",
      "2020-01-02  71.545890  72.598892  71.292304  72.538513  135480400.0     NaN   \n",
      "2020-01-03  71.765651  72.594040  71.608669  71.833275  146322800.0     NaN   \n",
      "2020-01-06  70.954181  72.444313  70.703005  72.405670  118387200.0     NaN   \n",
      "2020-01-07  72.415345  72.671348  71.845377  72.065155  108872000.0     NaN   \n",
      "\n",
      "               EMA_20  RSI_14      MACD    Signal  Volatility_20  \\\n",
      "2020-01-01        NaN     NaN       NaN       NaN            NaN   \n",
      "2020-01-02  72.538513     NaN  0.000000  0.000000            NaN   \n",
      "2020-01-03  72.471348     NaN -0.056258 -0.011252            NaN   \n",
      "2020-01-06  72.465093     NaN -0.054033 -0.019808            NaN   \n",
      "2020-01-07  72.427003     NaN -0.078837 -0.031614            NaN   \n",
      "\n",
      "            Interest_Rate  10Y_Treasury_Yield  Inflation_CPI  Unemployment  \n",
      "2020-01-01           1.55                 NaN        259.127           3.6  \n",
      "2020-01-02           1.55                1.88        259.127           3.6  \n",
      "2020-01-03           1.55                1.80        259.127           3.6  \n",
      "2020-01-06           1.55                1.81        259.127           3.6  \n",
      "2020-01-07           1.55                1.83        259.127           3.6  \n"
     ]
    },
    {
     "name": "stderr",
     "output_type": "stream",
     "text": [
      "C:\\Users\\Nam Nguyen\\AppData\\Local\\Temp\\ipykernel_40984\\1846812741.py:10: FutureWarning: DataFrame.fillna with 'method' is deprecated and will raise in a future version. Use obj.ffill() or obj.bfill() instead.\n",
      "  merged_df = merged_df.sort_index().fillna(method=\"ffill\")\n"
     ]
    }
   ],
   "source": [
    "apple_df = get_stock_data(\"AAPL\", start=\"2020-01-01\", end=\"2025-01-01\")\n",
    "\n",
    "macro_df = get_fred_data(fred_series, start=\"2020-01-01\", end=\"2025-01-01\")\n",
    "\n",
    "# Make both indices timezone-naive\n",
    "apple_df.index = apple_df.index.tz_localize(None)\n",
    "macro_df.index = macro_df.index.tz_localize(None)\n",
    "\n",
    "merged_df = apple_df.merge(macro_df, left_index=True, right_index=True, how=\"outer\")\n",
    "merged_df = merged_df.sort_index().fillna(method=\"ffill\")\n",
    "\n",
    "merged_df.to_csv(\"APPL_with_macro_2020_2025.csv\")\n",
    "\n",
    "print(\"Combined dataset saved as 'AAPL_with_macro_2020_2025'\")\n",
    "print(merged_df.head())"
   ]
  },
  {
   "cell_type": "code",
   "execution_count": 35,
   "id": "da9cf517",
   "metadata": {},
   "outputs": [
    {
     "name": "stderr",
     "output_type": "stream",
     "text": [
      "C:\\Users\\Nam Nguyen\\AppData\\Local\\Temp\\ipykernel_40984\\1163949872.py:2: UserWarning: Could not infer format, so each element will be parsed individually, falling back to `dateutil`. To ensure parsing is consistent and as-expected, please specify a format.\n",
      "  merged_df = pd.read_csv(\n"
     ]
    }
   ],
   "source": [
    "# Load with Date as index\n",
    "merged_df = pd.read_csv(\n",
    "    r\"E:\\Study\\usth\\fundamental_data_science\\crawl_data\\APPL_with_macro_2020_2025.csv\",\n",
    "    index_col=0,      # use first column as index\n",
    "    parse_dates=True  # parse as datetime\n",
    ")\n",
    "\n",
    "# (Optional) reset index if you want Date as a column instead of index\n",
    "# merged_df = merged_df.reset_index().rename(columns={'index': 'Date'})\n",
    "\n",
    "# Save again without extra number column\n",
    "merged_df.to_csv(\"APPL_with_macro_2020_2025.csv\", index=False)"
   ]
  },
  {
   "cell_type": "code",
   "execution_count": 36,
   "id": "cc6aa3a1",
   "metadata": {},
   "outputs": [
    {
     "name": "stdout",
     "output_type": "stream",
     "text": [
      "         Date       Open       High        Low      Close       Volume  \\\n",
      "0  2020-01-01        NaN        NaN        NaN        NaN          NaN   \n",
      "1  2020-01-02  71.545890  72.598892  71.292304  72.538513  135480400.0   \n",
      "2  2020-01-03  71.765651  72.594040  71.608669  71.833275  146322800.0   \n",
      "3  2020-01-06  70.954181  72.444313  70.703005  72.405670  118387200.0   \n",
      "4  2020-01-07  72.415345  72.671348  71.845377  72.065155  108872000.0   \n",
      "\n",
      "   SMA_20     EMA_20  RSI_14      MACD    Signal  Volatility_20  \\\n",
      "0     NaN        NaN     NaN       NaN       NaN            NaN   \n",
      "1     NaN  72.538513     NaN  0.000000  0.000000            NaN   \n",
      "2     NaN  72.471348     NaN -0.056258 -0.011252            NaN   \n",
      "3     NaN  72.465093     NaN -0.054033 -0.019808            NaN   \n",
      "4     NaN  72.427003     NaN -0.078837 -0.031614            NaN   \n",
      "\n",
      "   Interest_Rate  10Y_Treasury_Yield  Inflation_CPI  Unemployment  \n",
      "0           1.55                 NaN        259.127           3.6  \n",
      "1           1.55                1.88        259.127           3.6  \n",
      "2           1.55                1.80        259.127           3.6  \n",
      "3           1.55                1.81        259.127           3.6  \n",
      "4           1.55                1.83        259.127           3.6  \n"
     ]
    }
   ],
   "source": [
    "print(merged_df.head())"
   ]
  },
  {
   "cell_type": "code",
   "execution_count": null,
   "id": "2b180898",
   "metadata": {},
   "outputs": [],
   "source": []
  }
 ],
 "metadata": {
  "kernelspec": {
   "display_name": "Python 3",
   "language": "python",
   "name": "python3"
  },
  "language_info": {
   "codemirror_mode": {
    "name": "ipython",
    "version": 3
   },
   "file_extension": ".py",
   "mimetype": "text/x-python",
   "name": "python",
   "nbconvert_exporter": "python",
   "pygments_lexer": "ipython3",
   "version": "3.10.11"
  }
 },
 "nbformat": 4,
 "nbformat_minor": 5
}
